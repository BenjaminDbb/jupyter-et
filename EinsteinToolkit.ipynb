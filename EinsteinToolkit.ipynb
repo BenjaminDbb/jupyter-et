{
 "cells": [
  {
   "cell_type": "markdown",
   "metadata": {
    "slideshow": {
     "slide_type": "slide"
    }
   },
   "source": [
    "# Einstein Toolkit tutorial\n",
    "<br/><br/><br/>\n",
    "<center>\n",
    "Roland Haas, NCSA and UIUC\n",
    "\n",
    "rhaas@ncsa.illinois.edu\n",
    "</center>"
   ]
  },
  {
   "cell_type": "code",
   "execution_count": 2,
   "metadata": {
    "slideshow": {
     "slide_type": "subslide"
    }
   },
   "outputs": [
    {
     "name": "stdout",
     "output_type": "stream",
     "text": [
      "\n",
      "Automagic is ON, % prefix IS NOT needed for line magics.\n"
     ]
    }
   ],
   "source": [
    "# let me use magic commands without the % sign\n",
    "%automagic on"
   ]
  },
  {
   "cell_type": "code",
   "execution_count": 3,
   "metadata": {
    "slideshow": {
     "slide_type": "subslide"
    }
   },
   "outputs": [
    {
     "data": {
      "text/html": [
       "<style>\n",
       ".rendered_html ul { display: block; }\n",
       ".floatright { float: right; padding-left: 1em; }\n",
       "</style>"
      ],
      "text/plain": [
       "<IPython.core.display.HTML object>"
      ]
     },
     "metadata": {},
     "output_type": "display_data"
    }
   ],
   "source": [
    "%%HTML\n",
    "<style>\n",
    ".rendered_html ul { display: block; }\n",
    ".floatright { float: right; padding-left: 1em; }\n",
    "</style>"
   ]
  },
  {
   "cell_type": "markdown",
   "metadata": {},
   "source": [
    "TODO: add intro slide with convetions used in this notebook\n",
    "\n",
    "Topics to cover:\n",
    "\n",
    "  1. a generic introduction to the Einstein Toolkit and how to use it. Similar to the presentation that Steve Brandt and Peter Diener gave at the NCSA ET workshop. See the program (has link to the recording) http://www.ncsa.illinois.edu/Conferences/ETK17/program.html and https://drive.google.com/drive/folders/0B4gNfWainf-5aGNiZ1IyUk9ZN2s .\n",
    "  1. an introduction on how to set up a simulation campaign and how to use the Einstein Toolkit to simulate binary black hole or binary neutron stars.\n"
   ]
  },
  {
   "cell_type": "markdown",
   "metadata": {
    "slideshow": {
     "slide_type": "slide"
    }
   },
   "source": [
    "# Structure of the toolkit\n",
    "  * Collaborative, distributed code development <img style=\"float:right;width:20em\" src=\"fig/logos.png\"/>\n",
    "  * Collaborations among competitors\n",
    "  * Infrastructure modules\n",
    "    * Parameter file handling\n",
    "    * Parallelization (MPI)\n",
    "    * Mesh refinement\n",
    "    * IO, checkpointing\n",
    "  * Physics modules\n",
    "    * Spacetime evolution\n",
    "    * Ideal general relativistic magnetohydrodynamics\n",
    "    * Multigrid elliptic solver\n",
    "  * Third party modules\n",
    "    * Curvilinear grid coordinates (Llama)\n",
    "    * Neutrino radiation transport codes (ZelmaniLeak, ZelmaniM1)\n",
    "    * Data analysis tools (SimulationTools)"
   ]
  },
  {
   "cell_type": "markdown",
   "metadata": {},
   "source": [
    "# Goals of this tutorial\n",
    "\n",
    "Cactus is a very large code that has grown quite complex over the 20 years of its existence. This tutorial attempts to provide you with enough knowledge experience to:\n",
    "\n",
    "  1. understand key Cactus concepts\n",
    "  2. run a Cactus simulation (campaign) to study for example gravitational waves\n",
    "  3. extract information about gravitational waves from the simulation\n",
    "  <img style='float: right; height: 6ex' src=\"fig/kranc.png\"/>\n",
    "  4. modify existing Cactus modules (maybe)\n",
    "    - using `C` and `Fortran` code\n",
    "    - using `Kranc`\n",
    "    \n",
    "There will be plenty of hands on exercises that help understand the concepts presented and serve as building blocks for your own experiment with Cactus."
   ]
  },
  {
   "cell_type": "markdown",
   "metadata": {
    "slideshow": {
     "slide_type": "slide"
    }
   },
   "source": [
    "# Tutorial environment\n",
    "\n",
    "For this tutorial we will be working with a Jupyter based environment that lets you use the Einstein Toolkit without having to first download it. You can log into the system through https://www.etk-unam.ndslabs.org/\n",
    "[![jupter hub login](fig/login.png)](https://www.etk-unam.ndslabs.org/)"
   ]
  },
  {
   "cell_type": "markdown",
   "metadata": {
    "slideshow": {
     "slide_type": "subslide"
    }
   },
   "source": [
    "Once logged in, pick \"jupyter\" from the list of available applications\n",
    "![application selection screen](fig/05-select-image.png)"
   ]
  },
  {
   "cell_type": "markdown",
   "metadata": {
    "slideshow": {
     "slide_type": "subslide"
    }
   },
   "source": [
    "Next start the application and wait for it to fully start up\n",
    "![start application](fig/06-start-image.png)\n",
    "![application started](fig/07-image-starting.png)"
   ]
  },
  {
   "cell_type": "markdown",
   "metadata": {
    "slideshow": {
     "slide_type": "subslide"
    }
   },
   "source": [
    "Finally connect to the jupyter notebook\n",
    "![connect to jupyter](fig/08-image-ready.png)"
   ]
  },
  {
   "cell_type": "markdown",
   "metadata": {
    "slideshow": {
     "slide_type": "slide"
    }
   },
   "source": [
    "# Following along\n",
    "Once jupyter starts up you will be presented with a window showing a list of directories and files. Click on the one named \"EinsteinToolkit.ipynb\" which is this file.\n",
    "\n",
    "This notebook contains all the commends you need to enter as executable cells, mostly marked by `%%bash` with the exception of the next one which changes inot the Cactus directory."
   ]
  },
  {
   "cell_type": "code",
   "execution_count": 4,
   "metadata": {
    "slideshow": {
     "slide_type": "fragment"
    }
   },
   "outputs": [
    {
     "name": "stdout",
     "output_type": "stream",
     "text": [
      "[Errno 2] No such file or directory: 'Cactus'\n",
      "/data/rhaas/ncsa/talks/mx-cactusintro/Cactus\n"
     ]
    }
   ],
   "source": [
    "%cd Cactus"
   ]
  },
  {
   "cell_type": "markdown",
   "metadata": {
    "slideshow": {
     "slide_type": "fragment"
    }
   },
   "source": [
    "which changes into the Cactus directory and outputs its full path. We will be working from inside this directory for now.\n",
    "\n",
    "Remeber the blue and red stickies to indicate that you are still working and that you need help."
   ]
  },
  {
   "cell_type": "markdown",
   "metadata": {
    "slideshow": {
     "slide_type": "subslide"
    }
   },
   "source": [
    "# Obtaining the Einstein Toolkit on your laptop\n",
    "\n",
    "The Einstein toolkit uses the `GetComponent` tool to download the components.\n",
    "```bash\n",
    "curl -O -L https://raw.githubusercontent.com/gridaphobe/CRL/ET_2018_02/GetComponents\n",
    "chmod a+x GetComponents\n",
    "./GetComponents https://bitbucket.org/einsteintoolkit/manifest/raw/ET_2018_02/einsteintoolkit.th\n",
    "```\n",
    "GetComponents takes a `thornlist` as its argument which describes how to download the Cactus components\n",
    "```\n",
    "!CRL_VERSION = 1.0\n",
    "\n",
    "# CactusExamples thorns\n",
    "!TARGET   = $ARR\n",
    "!TYPE     = git\n",
    "!URL      = https://bitbucket.org/cactuscode/cactusexamples.git\n",
    "!REPO_PATH= $2\n",
    "!CHECKOUT = CactusExamples/HelloWorldCUDA\n",
    "CactusExamples/HelloWorld\n",
    "```"
   ]
  },
  {
   "cell_type": "markdown",
   "metadata": {
    "slideshow": {
     "slide_type": "slide"
    }
   },
   "source": [
    "# Compiling Cactus\n",
    "The Einstein toolkit uses a tool `simfactory` to abstract away differences between different high-performance cluster environemnts and between different operating systems. To compile Cactus one uses the `build` comand. We will use it to compile a simple 'Hello, World!' code using Cactus."
   ]
  },
  {
   "cell_type": "code",
   "execution_count": 35,
   "metadata": {
    "slideshow": {
     "slide_type": "fragment"
    }
   },
   "outputs": [
    {
     "name": "stderr",
     "output_type": "stream",
     "text": [
      "bash: line 1: simfactory/bin/sim: No such file or directory\n"
     ]
    }
   ],
   "source": [
    "%%bash\n",
    "simfactory/bin/sim build --thornlist thornlists/hello.th hello"
   ]
  },
  {
   "cell_type": "markdown",
   "metadata": {
    "slideshow": {
     "slide_type": "fragment"
    }
   },
   "source": [
    "which will work for a while and then end with\n",
    "```\n",
    "Done.\n",
    "```"
   ]
  },
  {
   "cell_type": "markdown",
   "metadata": {
    "slideshow": {
     "slide_type": "slide"
    }
   },
   "source": [
    "# Running a first Cactus simulation\n",
    "`simfactory` also allows to `submit` a simulation to a queueing system, but for this first simulation, and to show what is going on behind the scenes, we will start Cactus directly"
   ]
  },
  {
   "cell_type": "code",
   "execution_count": 36,
   "metadata": {
    "slideshow": {
     "slide_type": "fragment"
    }
   },
   "outputs": [
    {
     "name": "stderr",
     "output_type": "stream",
     "text": [
      "bash: line 1: exe/cactus_hello: No such file or directory\n"
     ]
    }
   ],
   "source": [
    "%%bash\n",
    "exe/cactus_hello par/hello.par"
   ]
  },
  {
   "cell_type": "markdown",
   "metadata": {
    "slideshow": {
     "slide_type": "fragment"
    }
   },
   "source": [
    "This produces quite a bit of output which ends in\n",
    "> INFO (HelloWorld): Hello Mexico!\n",
    "\n",
    "Congratulations to (potentially) your first Cactus run!"
   ]
  },
  {
   "cell_type": "markdown",
   "metadata": {
    "slideshow": {
     "slide_type": "slide"
    }
   },
   "source": [
    "# Modifying simulation parameters\n",
    "A cactus simulation takes runtime parameters from a parameter file that is specified on the command line. In the example above the parameter file was `par/hello.par` and looks like so\n",
    "```\n",
    "ActiveThorns = \"HelloWorld\"\n",
    "\n",
    "HelloWorld::who = \"Mexico\"\n",
    "```\n",
    "which enables the `thorn` (more on this in a second) `HelloWorld` and sets its parameter `who` to the string `\"Mexico\"`.\n",
    "Paramters can be strings, integers, floating point numbers or of a set of programmer defined keywords. Cactus verifies that parameters are of the correct type, eg. no floating point numbers are given where integers are expected, and that parameters are within thorn allowed ranges, eg. a parameter specifying a distance may be required to be positive.\n",
    "\n",
    "If you like, go ahead and change the value to something else, for example your name and re-run the simulation."
   ]
  },
  {
   "cell_type": "code",
   "execution_count": 37,
   "metadata": {
    "slideshow": {
     "slide_type": "fragment"
    }
   },
   "outputs": [
    {
     "name": "stderr",
     "output_type": "stream",
     "text": [
      "sed: can't read par/hello.par: No such file or directory\n",
      "bash: line 2: exe/cactus_hello: No such file or directory\n"
     ]
    }
   ],
   "source": [
    "%%bash\n",
    "sed -i 's/Mexico/Roland/' par/hello.par\n",
    "exe/cactus_hello par/hello.par"
   ]
  },
  {
   "cell_type": "markdown",
   "metadata": {
    "slideshow": {
     "slide_type": "skip"
    }
   },
   "source": [
    "# Taking a step back\n",
    "\n",
    "Now that we have seen how to run a Cactus simulation and to modify parameters, we take a step back back to see how this all fits in with Cactus' design principles."
   ]
  },
  {
   "cell_type": "markdown",
   "metadata": {
    "slideshow": {
     "slide_type": "slide"
    }
   },
   "source": [
    "# Cactus concepts\n",
    "\n",
    "| **term** | **description** |\n",
    "|------|------|\n",
    "| **thorn** | Cactus module providing physics or infrastructure capabilities |\n",
    "| **grid function** | discrete representation of function eg. density $\\rho(x, y , z)$ on the numerical grid, eg. $\\texttt{rho}_{i,j,k}$ |\n",
    "| **grid scalar** | single number (or set of numbers) managed by Cactus, eg. total mass |\n",
    "| **schedule** | order in which Cactus calls user supplied routines, defined through ordering relations `SCHEDULE compute_rho BEFORE compute_mass` |\n",
    "| **parameter** | user specifyable option controlling simulation. Used for example to provide central density in TOV stars, give final time of simulation, specify type of equation of state |\n",
    "| **parameter file** | set of parameter values used in a single simulation run, key—value pairs |"
   ]
  },
  {
   "cell_type": "markdown",
   "metadata": {
    "slideshow": {
     "slide_type": "slide"
    }
   },
   "source": [
    "# Cactus directory layout\n",
    "\n",
    "<pre class='floatright'>\n",
    "arrangements\n",
    " └CactusExamples\n",
    "    └HelloWorld\n",
    "configs\n",
    "  ├hello\n",
    "  └mclachlan\n",
    "exe\n",
    "  ├cactus_hello\n",
    "  └cactus_mclachlan\n",
    "par\n",
    "  ├hello.par\n",
    "  └qc0.par\n",
    "simfactory\n",
    "src\n",
    "thornlists\n",
    "</pre>\n",
    "  - Cactus lets you arrange its modules (`thorns`) in `arrangements` to group together similar modules. For example the HelloWorld `thorn` is in the `CactusExamples` arrangement\n",
    "  - Compiled executables are in `exe` while all object files etc. are in the subdirectories of `configs` which are the `configurations` that have been build. Each `configuration` can use a different subset of `thorns` or different compile options.\n",
    "  - `src` is `Cactus`'s own source code, you usally do not have to look into it\n",
    "  - Often parameter files, will be stored in a directory `par`. This is optional and you can store them wherever you like."
   ]
  },
  {
   "cell_type": "markdown",
   "metadata": {
    "slideshow": {
     "slide_type": "slide"
    }
   },
   "source": [
    "# Thorn directory layout\n",
    "\n",
    "<pre class='floatright'>\n",
    "HelloWorld\n",
    "  ├README\n",
    "  ├interface.ccl\n",
    "  ├param.ccl\n",
    "  ├schedule.ccl\n",
    "  ├doc\n",
    "  │  └documentation.tex\n",
    "  ├par\n",
    "  │  └HelloWorld.par\n",
    "  └src\n",
    "     ├HelloWorld.c\n",
    "     └make.code.defn\n",
    "</pre>\n",
    "  - the three files ending in `.ccl` are `C`actus `c`configuration fi`l`es, that describe:\n",
    "       - the `interface` that a thorn implements (think `java`)\n",
    "       - the `param`eters that a thorn understands\n",
    "       - the `schedule` of its functions during the simulation\n",
    "  - `make.code.defn` lists all source files that need to be compiled to build the thorn\n",
    "  - and finally `HelloWorld.c` is the actual source code"
   ]
  },
  {
   "cell_type": "markdown",
   "metadata": {
    "slideshow": {
     "slide_type": "slide"
    }
   },
   "source": [
    "`param.ccl` defines the parameter `who` that we had used before:"
   ]
  },
  {
   "cell_type": "code",
   "execution_count": 52,
   "metadata": {
    "slideshow": {
     "slide_type": "fragment"
    }
   },
   "outputs": [
    {
     "name": "stdout",
     "output_type": "stream",
     "text": [
      "# Parameter definitions for thorn HelloWorld\n",
      "# $Header$\n"
     ]
    }
   ],
   "source": [
    "%%bash\n",
    "cat arrangements/CactusExamples/HelloWorld/param.ccl"
   ]
  },
  {
   "cell_type": "markdown",
   "metadata": {
    "slideshow": {
     "slide_type": "fragment"
    }
   },
   "source": [
    "this declares `who` to be a string, which must not be empty (since only values that match the regular expression `\".+\"` are allowed) and whose default values is `\"World\"`. We also have to provide a descriptive text for the parameter itself `\"who to greet\"` and of each allowed range of values `\"we accept any non-emtpy string\"`."
   ]
  },
  {
   "cell_type": "markdown",
   "metadata": {
    "slideshow": {
     "slide_type": "slide"
    }
   },
   "source": [
    "`interface.ccl` defines the variables that the `thorn` provides and which `thorns` it `inherit`s from:"
   ]
  },
  {
   "cell_type": "code",
   "execution_count": 51,
   "metadata": {
    "slideshow": {
     "slide_type": "fragment"
    }
   },
   "outputs": [
    {
     "name": "stdout",
     "output_type": "stream",
     "text": [
      "# Interface definition for thorn HelloWorld\n",
      "# $Header$\n",
      "\n",
      "implements: helloworld"
     ]
    }
   ],
   "source": [
    "%%bash\n",
    "cat arrangements/CactusExamples/HelloWorld/interface.ccl"
   ]
  },
  {
   "cell_type": "markdown",
   "metadata": {
    "slideshow": {
     "slide_type": "fragment"
    }
   },
   "source": [
    "which is almost empty since `HelloWorld` does not define any variables or inherit from any other thorn."
   ]
  },
  {
   "cell_type": "markdown",
   "metadata": {
    "slideshow": {
     "slide_type": "slide"
    }
   },
   "source": [
    "`schedule.ccl` determines which functions are executed in which order and also what variables defined in `interface.ccl` will be provided with storage (there storage being *scheduled*):"
   ]
  },
  {
   "cell_type": "code",
   "execution_count": 53,
   "metadata": {
    "slideshow": {
     "slide_type": "fragment"
    }
   },
   "outputs": [
    {
     "name": "stdout",
     "output_type": "stream",
     "text": [
      "# Schedule definitions for thorn HelloWorld\n",
      "# $Header$\n",
      "\n",
      "schedule HelloWorld at CCTK_EVOL\n",
      "{\n",
      "  LANG: C\n",
      "} \"Print message to screen\""
     ]
    }
   ],
   "source": [
    "%%bash\n",
    "cat arrangements/CactusExamples/HelloWorld/schedule.ccl"
   ]
  },
  {
   "cell_type": "markdown",
   "metadata": {
    "slideshow": {
     "slide_type": "fragment"
    }
   },
   "source": [
    "which schedules the function `HelloWorld` in the `CCTK_EVOL` timebin. `HelloWorld` is written in the `C` (or `C++`) language and is describe to \"Print message to screen\"."
   ]
  },
  {
   "cell_type": "markdown",
   "metadata": {
    "slideshow": {
     "slide_type": "slide"
    }
   },
   "source": [
    "# Binary black hole merger simulations\n",
    "\n",
    "The Einstein Toolkit provides all tools required to simulate the merger of two black holes and to analyse the resulting gravitational waves. \n",
    "\n",
    "  * a thorn to compute initial data for black holes: `TwoPunctures`\n",
    "  * a spacetime evolution code: `McLachlan`\n",
    "  * codes to compute the gravitational waves produced by the system `WeylScal4` and `Multipole`\n",
    "  \n",
    "Ian Hinder provides a set of parameter files that simulate LIGO's first detected black hole merger event http://einsteintoolkit.org/gallery/bbh/index.html\n",
    "![gravitational waves emitted by a black hole merger event](fig/Strain_sm.png)"
   ]
  },
  {
   "cell_type": "markdown",
   "metadata": {
    "slideshow": {
     "slide_type": "slide"
    }
   },
   "source": [
    "# Binary black hole toy merger\n",
    "\n",
    "The LIGO detection is a too large to simulate on the tutorial machines, so we use a toy-version of it that only includes the last 1/2 orbit of the merger only."
   ]
  },
  {
   "cell_type": "code",
   "execution_count": 55,
   "metadata": {
    "slideshow": {
     "slide_type": "fragment"
    }
   },
   "outputs": [
    {
     "name": "stderr",
     "output_type": "stream",
     "text": [
      "bash: line 1: simfactory/bin/sim: No such file or directory\n"
     ]
    }
   ],
   "source": [
    "%%bash\n",
    "simfactory/bin/sim submit --configuration qc0 --walltime 1:00:00 --procs 4 --num-threads 2 --parfile par/qc0-mclachlan-small.par qc0"
   ]
  },
  {
   "cell_type": "markdown",
   "metadata": {
    "slideshow": {
     "slide_type": "fragment"
    }
   },
   "source": [
    "This does something new. It uses simfacory to `submit` a simulation, ie it runs it in the background, freeing up the terminal.\n",
    "  - it uses a configuration in `configs` called qc0\n",
    "  - it asks for the simulation to run for at most 1:00:00 hours\n",
    "  - it uses 4 cores, which happens to be the number of cores allocated to each tutorial machine\n",
    "  - uses 2 threads per MPI rank (so 4/2 = 2 MPI ranks)\n",
    "  - uses the paramter file parqwc0.par\n",
    "  - names the simulation qc0\n",
    "\n",
    "This will finish in about XXX minutes. "
   ]
  },
  {
   "cell_type": "markdown",
   "metadata": {
    "slideshow": {
     "slide_type": "slide"
    }
   },
   "source": [
    "# Simulation output\n",
    "\n",
    "Simulation output is written to a cluster specific location. You can query the location using simfactory"
   ]
  },
  {
   "cell_type": "code",
   "execution_count": null,
   "metadata": {
    "slideshow": {
     "slide_type": "fragment"
    }
   },
   "outputs": [],
   "source": []
  },
  {
   "cell_type": "markdown",
   "metadata": {
    "slideshow": {
     "slide_type": "slide"
    }
   },
   "source": [
    "# Lunch ..."
   ]
  },
  {
   "cell_type": "code",
   "execution_count": null,
   "metadata": {},
   "outputs": [],
   "source": []
  }
 ],
 "metadata": {
  "celltoolbar": "Slideshow",
  "kernelspec": {
   "display_name": "Python 3",
   "language": "python",
   "name": "python3"
  },
  "language_info": {
   "codemirror_mode": {
    "name": "ipython",
    "version": 3
   },
   "file_extension": ".py",
   "mimetype": "text/x-python",
   "name": "python",
   "nbconvert_exporter": "python",
   "pygments_lexer": "ipython3",
   "version": "3.6.5"
  }
 },
 "nbformat": 4,
 "nbformat_minor": 2
}
